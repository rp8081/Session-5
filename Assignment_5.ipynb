{
  "nbformat": 4,
  "nbformat_minor": 0,
  "metadata": {
    "colab": {
      "name": "Assignment 5.ipynb",
      "version": "0.3.2",
      "provenance": [],
      "collapsed_sections": []
    },
    "kernelspec": {
      "name": "python3",
      "display_name": "Python 3"
    },
    "accelerator": "GPU"
  },
  "cells": [
    {
      "cell_type": "code",
      "metadata": {
        "id": "0SJyVpgSxHt4",
        "colab_type": "code",
        "colab": {
          "base_uri": "https://localhost:8080/",
          "height": 34
        },
        "outputId": "1bf32824-fcb1-4e02-b75e-e2749fde0e43"
      },
      "source": [
        "import numpy as np\n",
        "\n",
        "from keras.models import Sequential\n",
        "from keras.layers import Dense, Dropout, Activation, Flatten, Add, BatchNormalization\n",
        "from keras.layers import Convolution2D, MaxPooling2D\n",
        "from keras.utils import np_utils\n",
        "from keras.preprocessing.image import ImageDataGenerator\n",
        "\n",
        "from keras.datasets import mnist\n",
        "from keras.callbacks import ModelCheckpoint"
      ],
      "execution_count": 1,
      "outputs": [
        {
          "output_type": "stream",
          "text": [
            "Using TensorFlow backend.\n"
          ],
          "name": "stderr"
        }
      ]
    },
    {
      "cell_type": "code",
      "metadata": {
        "id": "YlEUplvoxKAT",
        "colab_type": "code",
        "colab": {
          "base_uri": "https://localhost:8080/",
          "height": 51
        },
        "outputId": "2ff66592-89c3-4f49-d7a8-5594b62e3ace"
      },
      "source": [
        "(X_train, y_train), (X_test, y_test) = mnist.load_data()\n"
      ],
      "execution_count": 2,
      "outputs": [
        {
          "output_type": "stream",
          "text": [
            "Downloading data from https://s3.amazonaws.com/img-datasets/mnist.npz\n",
            "11493376/11490434 [==============================] - 0s 0us/step\n"
          ],
          "name": "stdout"
        }
      ]
    },
    {
      "cell_type": "code",
      "metadata": {
        "id": "I6Y9Va-xxMXG",
        "colab_type": "code",
        "outputId": "0a425126-691c-43a3-e8d5-ff2e5a70c1ee",
        "colab": {
          "base_uri": "https://localhost:8080/",
          "height": 303
        }
      },
      "source": [
        "print (X_train.shape)\n",
        "from matplotlib import pyplot as plt\n",
        "%matplotlib inline\n",
        "plt.imshow(X_train[1])"
      ],
      "execution_count": 3,
      "outputs": [
        {
          "output_type": "stream",
          "text": [
            "(60000, 28, 28)\n"
          ],
          "name": "stdout"
        },
        {
          "output_type": "execute_result",
          "data": {
            "text/plain": [
              "<matplotlib.image.AxesImage at 0x7f1764cbee80>"
            ]
          },
          "metadata": {
            "tags": []
          },
          "execution_count": 3
        },
        {
          "output_type": "display_data",
          "data": {
            "image/png": "[encoded data removed]",
            "text/plain": [
              "<Figure size 432x288 with 1 Axes>"
            ]
          },
          "metadata": {
            "tags": []
          }
        }
      ]
    },
    {
      "cell_type": "code",
      "metadata": {
        "id": "lxDZxPhhxOgO",
        "colab_type": "code",
        "colab": {}
      },
      "source": [
        "X_train = X_train.reshape(X_train.shape[0], 28, 28,1 )\n",
        "X_test = X_test.reshape(X_test.shape[0], 28, 28,1)"
      ],
      "execution_count": 0,
      "outputs": []
    },
    {
      "cell_type": "code",
      "metadata": {
        "id": "3HzMqbTnxQQW",
        "colab_type": "code",
        "colab": {}
      },
      "source": [
        "# X_train = X_train.astype('float32')\n",
        "# X_test = X_test.astype('float32')\n",
        "# X_train /= 255\n",
        "# X_test /= 255"
      ],
      "execution_count": 0,
      "outputs": []
    },
    {
      "cell_type": "code",
      "metadata": {
        "id": "jvLaDX9h6SDO",
        "colab_type": "code",
        "outputId": "c11a4fb1-8aa1-4fc2-b20e-3c28364ed7c9",
        "colab": {
          "base_uri": "https://localhost:8080/",
          "height": 34
        }
      },
      "source": [
        "# report pixel means and standard deviations\n",
        "print('Statistics train=%.3f (%.3f), test=%.3f (%.3f)' % (X_train.mean(), X_train.std(), X_test.mean(), X_test.std()))"
      ],
      "execution_count": 6,
      "outputs": [
        {
          "output_type": "stream",
          "text": [
            "Statistics train=33.318 (78.567), test=33.791 (79.172)\n"
          ],
          "name": "stdout"
        }
      ]
    },
    {
      "cell_type": "code",
      "metadata": {
        "id": "oVDk_Yrf5tqB",
        "colab_type": "code",
        "outputId": "6c3c3eec-63d7-44fa-d5dd-59f6ce2f5060",
        "colab": {
          "base_uri": "https://localhost:8080/",
          "height": 34
        }
      },
      "source": [
        "# create generator that centers pixel values\n",
        "datagen = ImageDataGenerator(featurewise_center=True, featurewise_std_normalization=True)\n",
        "# calculate the mean on the training dataset\n",
        "datagen.fit(X_train)\n",
        "print('Data Generator mean=%.3f, std=%.3f' % (datagen.mean, datagen.std))"
      ],
      "execution_count": 7,
      "outputs": [
        {
          "output_type": "stream",
          "text": [
            "Data Generator mean=33.318, std=78.567\n"
          ],
          "name": "stdout"
        }
      ]
    },
    {
      "cell_type": "code",
      "metadata": {
        "id": "cqFjsI0r5tuh",
        "colab_type": "code",
        "outputId": "dfa38d10-8c56-4847-dfcb-5448b2009101",
        "colab": {
          "base_uri": "https://localhost:8080/",
          "height": 34
        }
      },
      "source": [
        "# normalize entire train data set\n",
        "iterator = datagen.flow(X_train, y_train, batch_size=len(X_train), shuffle=False)\n",
        "X_train, y_train = iterator.next()\n",
        "# pixel stats in the batch\n",
        "print(X_train.shape, X_train.mean(), X_train.std())"
      ],
      "execution_count": 8,
      "outputs": [
        {
          "output_type": "stream",
          "text": [
            "(60000, 28, 28, 1) -3.4560264e-07 0.9999998\n"
          ],
          "name": "stdout"
        }
      ]
    },
    {
      "cell_type": "code",
      "metadata": {
        "id": "UxdL2nUK5tz4",
        "colab_type": "code",
        "outputId": "64538b66-7b01-4702-aaff-46f264beb92a",
        "colab": {
          "base_uri": "https://localhost:8080/",
          "height": 34
        }
      },
      "source": [
        "# normalize entire test data set\n",
        "iterator = datagen.flow(X_test, y_test, batch_size=len(X_test), shuffle=False)\n",
        "X_test, y_test = iterator.next()\n",
        "# pixel stats in the batch\n",
        "print(X_test.shape, X_test.mean(), X_test.std())"
      ],
      "execution_count": 9,
      "outputs": [
        {
          "output_type": "stream",
          "text": [
            "(10000, 28, 28, 1) 0.0060174568 1.0077008\n"
          ],
          "name": "stdout"
        }
      ]
    },
    {
      "cell_type": "code",
      "metadata": {
        "id": "7LdYiW6ixR9e",
        "colab_type": "code",
        "colab": {}
      },
      "source": [
        "y_train[:10]\n",
        "Y_train = np_utils.to_categorical(y_train, 10)\n",
        "Y_test = np_utils.to_categorical(y_test, 10)"
      ],
      "execution_count": 0,
      "outputs": []
    },
    {
      "cell_type": "code",
      "metadata": {
        "id": "rFR0F9j0xVp2",
        "colab_type": "code",
        "outputId": "bc1986cd-cbb1-44a9-91bb-c50a3fcbc49e",
        "colab": {
          "base_uri": "https://localhost:8080/",
          "height": 187
        }
      },
      "source": [
        "Y_train[:10]"
      ],
      "execution_count": 11,
      "outputs": [
        {
          "output_type": "execute_result",
          "data": {
            "text/plain": [
              "array([[0., 0., 0., 0., 0., 1., 0., 0., 0., 0.],\n",
              "       [1., 0., 0., 0., 0., 0., 0., 0., 0., 0.],\n",
              "       [0., 0., 0., 0., 1., 0., 0., 0., 0., 0.],\n",
              "       [0., 1., 0., 0., 0., 0., 0., 0., 0., 0.],\n",
              "       [0., 0., 0., 0., 0., 0., 0., 0., 0., 1.],\n",
              "       [0., 0., 1., 0., 0., 0., 0., 0., 0., 0.],\n",
              "       [0., 1., 0., 0., 0., 0., 0., 0., 0., 0.],\n",
              "       [0., 0., 0., 1., 0., 0., 0., 0., 0., 0.],\n",
              "       [0., 1., 0., 0., 0., 0., 0., 0., 0., 0.],\n",
              "       [0., 0., 0., 0., 1., 0., 0., 0., 0., 0.]], dtype=float32)"
            ]
          },
          "metadata": {
            "tags": []
          },
          "execution_count": 11
        }
      ]
    },
    {
      "cell_type": "code",
      "metadata": {
        "id": "mDpXf4YQxXRm",
        "colab_type": "code",
        "outputId": "5c6306b0-60bd-4fab-affe-396ea27191ab",
        "colab": {
          "base_uri": "https://localhost:8080/",
          "height": 1000
        }
      },
      "source": [
        "from keras.layers import Activation\n",
        "model = Sequential()\n",
        " \n",
        "model.add(Convolution2D(16, 3, 3, input_shape=(28,28,1))) #26\n",
        "model.add(BatchNormalization())\n",
        "model.add(Activation('relu'))\n",
        "model.add(Dropout(0.1))\n",
        "\n",
        "model.add(Convolution2D(32, 3, 3)) #24\n",
        "model.add(BatchNormalization())\n",
        "model.add(Activation('relu'))\n",
        "model.add(Dropout(0.1))\n",
        "\n",
        "model.add(Convolution2D(10, 1, 1, activation='relu')) #22\n",
        "\n",
        "model.add(MaxPooling2D(pool_size=(2, 2)))#11\n",
        "\n",
        "model.add(Convolution2D(16, 3, 3))#9\n",
        "model.add(BatchNormalization())\n",
        "model.add(Activation('relu'))\n",
        "model.add(Dropout(0.1))\n",
        "\n",
        "\n",
        "model.add(Convolution2D(16, 3, 3))#7\n",
        "model.add(BatchNormalization())\n",
        "model.add(Activation('relu'))\n",
        "model.add(Dropout(0.1))\n",
        "\n",
        "\n",
        "model.add(Convolution2D(16, 3, 3))#5\n",
        "model.add(BatchNormalization())\n",
        "model.add(Activation('relu'))\n",
        "model.add(Dropout(0.1))\n",
        "\n",
        "\n",
        "model.add(Convolution2D(16, 3, 3))#3\n",
        "model.add(BatchNormalization())\n",
        "model.add(Activation('relu'))\n",
        "model.add(Dropout(0.1))\n",
        "\n",
        "\n",
        "model.add(Convolution2D(10, 4, 4))\n",
        "model.add(BatchNormalization())\n",
        "model.add(Dropout(0.1))\n",
        "\n",
        "\n",
        "model.add(Flatten())\n",
        "model.add(Activation('softmax'))\n",
        "\n",
        "\n",
        "model.summary()"
      ],
      "execution_count": 30,
      "outputs": [
        {
          "output_type": "stream",
          "text": [
            "/usr/local/lib/python3.6/dist-packages/ipykernel_launcher.py:4: UserWarning: Update your `Conv2D` call to the Keras 2 API: `Conv2D(16, (3, 3), input_shape=(28, 28, 1...)`\n",
            "  after removing the cwd from sys.path.\n",
            "/usr/local/lib/python3.6/dist-packages/ipykernel_launcher.py:9: UserWarning: Update your `Conv2D` call to the Keras 2 API: `Conv2D(32, (3, 3))`\n",
            "  if __name__ == '__main__':\n",
            "/usr/local/lib/python3.6/dist-packages/ipykernel_launcher.py:14: UserWarning: Update your `Conv2D` call to the Keras 2 API: `Conv2D(10, (1, 1), activation=\"relu\")`\n",
            "  \n",
            "/usr/local/lib/python3.6/dist-packages/ipykernel_launcher.py:18: UserWarning: Update your `Conv2D` call to the Keras 2 API: `Conv2D(16, (3, 3))`\n",
            "/usr/local/lib/python3.6/dist-packages/ipykernel_launcher.py:24: UserWarning: Update your `Conv2D` call to the Keras 2 API: `Conv2D(16, (3, 3))`\n",
            "/usr/local/lib/python3.6/dist-packages/ipykernel_launcher.py:30: UserWarning: Update your `Conv2D` call to the Keras 2 API: `Conv2D(16, (3, 3))`\n",
            "/usr/local/lib/python3.6/dist-packages/ipykernel_launcher.py:36: UserWarning: Update your `Conv2D` call to the Keras 2 API: `Conv2D(16, (3, 3))`\n",
            "/usr/local/lib/python3.6/dist-packages/ipykernel_launcher.py:42: UserWarning: Update your `Conv2D` call to the Keras 2 API: `Conv2D(10, (4, 4))`\n"
          ],
          "name": "stderr"
        },
        {
          "output_type": "stream",
          "text": [
            "_________________________________________________________________\n",
            "Layer (type)                 Output Shape              Param #   \n",
            "=================================================================\n",
            "conv2d_17 (Conv2D)           (None, 26, 26, 16)        160       \n",
            "_________________________________________________________________\n",
            "batch_normalization_15 (Batc (None, 26, 26, 16)        64        \n",
            "_________________________________________________________________\n",
            "activation_15 (Activation)   (None, 26, 26, 16)        0         \n",
            "_________________________________________________________________\n",
            "dropout_15 (Dropout)         (None, 26, 26, 16)        0         \n",
            "_________________________________________________________________\n",
            "conv2d_18 (Conv2D)           (None, 24, 24, 32)        4640      \n",
            "_________________________________________________________________\n",
            "batch_normalization_16 (Batc (None, 24, 24, 32)        128       \n",
            "_________________________________________________________________\n",
            "activation_16 (Activation)   (None, 24, 24, 32)        0         \n",
            "_________________________________________________________________\n",
            "dropout_16 (Dropout)         (None, 24, 24, 32)        0         \n",
            "_________________________________________________________________\n",
            "conv2d_19 (Conv2D)           (None, 24, 24, 10)        330       \n",
            "_________________________________________________________________\n",
            "max_pooling2d_3 (MaxPooling2 (None, 12, 12, 10)        0         \n",
            "_________________________________________________________________\n",
            "conv2d_20 (Conv2D)           (None, 10, 10, 16)        1456      \n",
            "_________________________________________________________________\n",
            "batch_normalization_17 (Batc (None, 10, 10, 16)        64        \n",
            "_________________________________________________________________\n",
            "activation_17 (Activation)   (None, 10, 10, 16)        0         \n",
            "_________________________________________________________________\n",
            "dropout_17 (Dropout)         (None, 10, 10, 16)        0         \n",
            "_________________________________________________________________\n",
            "conv2d_21 (Conv2D)           (None, 8, 8, 16)          2320      \n",
            "_________________________________________________________________\n",
            "batch_normalization_18 (Batc (None, 8, 8, 16)          64        \n",
            "_________________________________________________________________\n",
            "activation_18 (Activation)   (None, 8, 8, 16)          0         \n",
            "_________________________________________________________________\n",
            "dropout_18 (Dropout)         (None, 8, 8, 16)          0         \n",
            "_________________________________________________________________\n",
            "conv2d_22 (Conv2D)           (None, 6, 6, 16)          2320      \n",
            "_________________________________________________________________\n",
            "batch_normalization_19 (Batc (None, 6, 6, 16)          64        \n",
            "_________________________________________________________________\n",
            "activation_19 (Activation)   (None, 6, 6, 16)          0         \n",
            "_________________________________________________________________\n",
            "dropout_19 (Dropout)         (None, 6, 6, 16)          0         \n",
            "_________________________________________________________________\n",
            "conv2d_23 (Conv2D)           (None, 4, 4, 16)          2320      \n",
            "_________________________________________________________________\n",
            "batch_normalization_20 (Batc (None, 4, 4, 16)          64        \n",
            "_________________________________________________________________\n",
            "activation_20 (Activation)   (None, 4, 4, 16)          0         \n",
            "_________________________________________________________________\n",
            "dropout_20 (Dropout)         (None, 4, 4, 16)          0         \n",
            "_________________________________________________________________\n",
            "conv2d_24 (Conv2D)           (None, 1, 1, 10)          2570      \n",
            "_________________________________________________________________\n",
            "batch_normalization_21 (Batc (None, 1, 1, 10)          40        \n",
            "_________________________________________________________________\n",
            "dropout_21 (Dropout)         (None, 1, 1, 10)          0         \n",
            "_________________________________________________________________\n",
            "flatten_3 (Flatten)          (None, 10)                0         \n",
            "_________________________________________________________________\n",
            "activation_21 (Activation)   (None, 10)                0         \n",
            "=================================================================\n",
            "Total params: 16,604\n",
            "Trainable params: 16,360\n",
            "Non-trainable params: 244\n",
            "_________________________________________________________________\n"
          ],
          "name": "stdout"
        }
      ]
    },
    {
      "cell_type": "code",
      "metadata": {
        "id": "SHEXRX4Q2mR-",
        "colab_type": "code",
        "colab": {}
      },
      "source": [
        "import keras.backend as K\n",
        "def reg_term(lambd):\n",
        "  w2 = 0\n",
        "  for i in range(len(model.layers)):\n",
        "    if len(model.layers[i].get_weights()) >0:\n",
        "      t = np.sum(model.layers[i].get_weights()[0]*model.layers[i].get_weights()[0])\n",
        "      w2=w2+t\n",
        "  w2 = w2*(lambd/(2*X_train.shape[0]))\n",
        "  return w2\n",
        "\n",
        "  \n",
        "\n",
        "def loss_l2(y_true,y_pred):\n",
        "        return K.categorical_crossentropy(y_true, y_pred)+reg_term(lambd)"
      ],
      "execution_count": 0,
      "outputs": []
    },
    {
      "cell_type": "code",
      "metadata": {
        "id": "L2IicGJ4x3Be",
        "colab_type": "code",
        "outputId": "2ae7c79e-6d2a-4f47-e450-6121a3b6dd85",
        "colab": {
          "base_uri": "https://localhost:8080/",
          "height": 1000
        }
      },
      "source": [
        "from keras.optimizers import Adam\n",
        "from keras.callbacks import LearningRateScheduler\n",
        "def scheduler(epoch, lr):\n",
        "  return round(0.003 * 1/(1 + 0.319 * epoch), 10)\n",
        "\n",
        "lambd = 0.01\n",
        "\n",
        "checkpoint = ModelCheckpoint('model-{epoch:03d}-{acc:03f}-{val_acc:03f}.h5', verbose=1, monitor='val_loss',save_best_only=True, mode='auto') \n",
        "model.compile(loss=loss_l2, optimizer=Adam(lr=0.003), metrics=['accuracy'])\n",
        "\n",
        "model.fit(X_train, Y_train, batch_size=128, epochs=40, verbose=1, validation_data=(X_test, Y_test), callbacks=[checkpoint,LearningRateScheduler(scheduler, verbose=1)])"
      ],
      "execution_count": 32,
      "outputs": [
        {
          "output_type": "stream",
          "text": [
            "Train on 60000 samples, validate on 10000 samples\n",
            "Epoch 1/40\n",
            "\n",
            "Epoch 00001: LearningRateScheduler setting learning rate to 0.003.\n",
            "60000/60000 [==============================] - 9s 153us/step - loss: 0.5306 - acc: 0.8516 - val_loss: 0.1408 - val_acc: 0.9713\n",
            "\n",
            "Epoch 00001: val_loss improved from inf to 0.14079, saving model to model-001-0.851583-0.971300.h5\n",
            "Epoch 2/40\n",
            "\n",
            "Epoch 00002: LearningRateScheduler setting learning rate to 0.0022744503.\n",
            "60000/60000 [==============================] - 7s 114us/step - loss: 0.2483 - acc: 0.9280 - val_loss: 0.0796 - val_acc: 0.9818\n",
            "\n",
            "Epoch 00002: val_loss improved from 0.14079 to 0.07956, saving model to model-002-0.928017-0.981800.h5\n",
            "Epoch 3/40\n",
            "\n",
            "Epoch 00003: LearningRateScheduler setting learning rate to 0.0018315018.\n",
            "60000/60000 [==============================] - 7s 115us/step - loss: 0.1985 - acc: 0.9400 - val_loss: 0.0462 - val_acc: 0.9892\n",
            "\n",
            "Epoch 00003: val_loss improved from 0.07956 to 0.04622, saving model to model-003-0.939967-0.989200.h5\n",
            "Epoch 4/40\n",
            "\n",
            "Epoch 00004: LearningRateScheduler setting learning rate to 0.0015329586.\n",
            "60000/60000 [==============================] - 7s 115us/step - loss: 0.1711 - acc: 0.9465 - val_loss: 0.0393 - val_acc: 0.9912\n",
            "\n",
            "Epoch 00004: val_loss improved from 0.04622 to 0.03925, saving model to model-004-0.946533-0.991200.h5\n",
            "Epoch 5/40\n",
            "\n",
            "Epoch 00005: LearningRateScheduler setting learning rate to 0.0013181019.\n",
            "60000/60000 [==============================] - 7s 115us/step - loss: 0.1514 - acc: 0.9496 - val_loss: 0.0305 - val_acc: 0.9920\n",
            "\n",
            "Epoch 00005: val_loss improved from 0.03925 to 0.03052, saving model to model-005-0.949600-0.992000.h5\n",
            "Epoch 6/40\n",
            "\n",
            "Epoch 00006: LearningRateScheduler setting learning rate to 0.0011560694.\n",
            "60000/60000 [==============================] - 7s 115us/step - loss: 0.1427 - acc: 0.9497 - val_loss: 0.0289 - val_acc: 0.9926\n",
            "\n",
            "Epoch 00006: val_loss improved from 0.03052 to 0.02890, saving model to model-006-0.949683-0.992600.h5\n",
            "Epoch 7/40\n",
            "\n",
            "Epoch 00007: LearningRateScheduler setting learning rate to 0.0010295127.\n",
            "60000/60000 [==============================] - 7s 115us/step - loss: 0.1314 - acc: 0.9525 - val_loss: 0.0358 - val_acc: 0.9896\n",
            "\n",
            "Epoch 00007: val_loss did not improve from 0.02890\n",
            "Epoch 8/40\n",
            "\n",
            "Epoch 00008: LearningRateScheduler setting learning rate to 0.0009279307.\n",
            "60000/60000 [==============================] - 7s 114us/step - loss: 0.1232 - acc: 0.9538 - val_loss: 0.0288 - val_acc: 0.9924\n",
            "\n",
            "Epoch 00008: val_loss improved from 0.02890 to 0.02884, saving model to model-008-0.953833-0.992400.h5\n",
            "Epoch 9/40\n",
            "\n",
            "Epoch 00009: LearningRateScheduler setting learning rate to 0.0008445946.\n",
            "60000/60000 [==============================] - 7s 113us/step - loss: 0.1184 - acc: 0.9546 - val_loss: 0.0253 - val_acc: 0.9927\n",
            "\n",
            "Epoch 00009: val_loss improved from 0.02884 to 0.02526, saving model to model-009-0.954600-0.992700.h5\n",
            "Epoch 10/40\n",
            "\n",
            "Epoch 00010: LearningRateScheduler setting learning rate to 0.0007749935.\n",
            "60000/60000 [==============================] - 7s 113us/step - loss: 0.1154 - acc: 0.9542 - val_loss: 0.0235 - val_acc: 0.9931\n",
            "\n",
            "Epoch 00010: val_loss improved from 0.02526 to 0.02349, saving model to model-010-0.954217-0.993100.h5\n",
            "Epoch 11/40\n",
            "\n",
            "Epoch 00011: LearningRateScheduler setting learning rate to 0.0007159905.\n",
            "60000/60000 [==============================] - 7s 113us/step - loss: 0.1126 - acc: 0.9542 - val_loss: 0.0216 - val_acc: 0.9938\n",
            "\n",
            "Epoch 00011: val_loss improved from 0.02349 to 0.02157, saving model to model-011-0.954233-0.993800.h5\n",
            "Epoch 12/40\n",
            "\n",
            "Epoch 00012: LearningRateScheduler setting learning rate to 0.000665336.\n",
            "60000/60000 [==============================] - 7s 112us/step - loss: 0.1072 - acc: 0.9563 - val_loss: 0.0231 - val_acc: 0.9941\n",
            "\n",
            "Epoch 00012: val_loss did not improve from 0.02157\n",
            "Epoch 13/40\n",
            "\n",
            "Epoch 00013: LearningRateScheduler setting learning rate to 0.0006213753.\n",
            "60000/60000 [==============================] - 7s 113us/step - loss: 0.1070 - acc: 0.9555 - val_loss: 0.0220 - val_acc: 0.9941\n",
            "\n",
            "Epoch 00013: val_loss did not improve from 0.02157\n",
            "Epoch 14/40\n",
            "\n",
            "Epoch 00014: LearningRateScheduler setting learning rate to 0.0005828638.\n",
            "60000/60000 [==============================] - 7s 113us/step - loss: 0.1034 - acc: 0.9575 - val_loss: 0.0230 - val_acc: 0.9934\n",
            "\n",
            "Epoch 00014: val_loss did not improve from 0.02157\n",
            "Epoch 15/40\n",
            "\n",
            "Epoch 00015: LearningRateScheduler setting learning rate to 0.0005488474.\n",
            "60000/60000 [==============================] - 7s 113us/step - loss: 0.1014 - acc: 0.9561 - val_loss: 0.0228 - val_acc: 0.9942\n",
            "\n",
            "Epoch 00015: val_loss did not improve from 0.02157\n",
            "Epoch 16/40\n",
            "\n",
            "Epoch 00016: LearningRateScheduler setting learning rate to 0.0005185825.\n",
            "60000/60000 [==============================] - 7s 114us/step - loss: 0.0997 - acc: 0.9562 - val_loss: 0.0200 - val_acc: 0.9940\n",
            "\n",
            "Epoch 00016: val_loss improved from 0.02157 to 0.02000, saving model to model-016-0.956200-0.994000.h5\n",
            "Epoch 17/40\n",
            "\n",
            "Epoch 00017: LearningRateScheduler setting learning rate to 0.000491481.\n",
            "60000/60000 [==============================] - 7s 114us/step - loss: 0.0995 - acc: 0.9561 - val_loss: 0.0206 - val_acc: 0.9950\n",
            "\n",
            "Epoch 00017: val_loss did not improve from 0.02000\n",
            "Epoch 18/40\n",
            "\n",
            "Epoch 00018: LearningRateScheduler setting learning rate to 0.0004670715.\n",
            "60000/60000 [==============================] - 7s 113us/step - loss: 0.0972 - acc: 0.9569 - val_loss: 0.0191 - val_acc: 0.9947\n",
            "\n",
            "Epoch 00018: val_loss improved from 0.02000 to 0.01913, saving model to model-018-0.956917-0.994700.h5\n",
            "Epoch 19/40\n",
            "\n",
            "Epoch 00019: LearningRateScheduler setting learning rate to 0.0004449718.\n",
            "60000/60000 [==============================] - 7s 114us/step - loss: 0.0959 - acc: 0.9567 - val_loss: 0.0198 - val_acc: 0.9942\n",
            "\n",
            "Epoch 00019: val_loss did not improve from 0.01913\n",
            "Epoch 20/40\n",
            "\n",
            "Epoch 00020: LearningRateScheduler setting learning rate to 0.000424869.\n",
            "60000/60000 [==============================] - 7s 114us/step - loss: 0.0940 - acc: 0.9567 - val_loss: 0.0217 - val_acc: 0.9933\n",
            "\n",
            "Epoch 00020: val_loss did not improve from 0.01913\n",
            "Epoch 21/40\n",
            "\n",
            "Epoch 00021: LearningRateScheduler setting learning rate to 0.0004065041.\n",
            "60000/60000 [==============================] - 7s 113us/step - loss: 0.0940 - acc: 0.9574 - val_loss: 0.0198 - val_acc: 0.9950\n",
            "\n",
            "Epoch 00021: val_loss did not improve from 0.01913\n",
            "Epoch 22/40\n",
            "\n",
            "Epoch 00022: LearningRateScheduler setting learning rate to 0.000389661.\n",
            "60000/60000 [==============================] - 7s 114us/step - loss: 0.0929 - acc: 0.9580 - val_loss: 0.0194 - val_acc: 0.9948\n",
            "\n",
            "Epoch 00022: val_loss did not improve from 0.01913\n",
            "Epoch 23/40\n",
            "\n",
            "Epoch 00023: LearningRateScheduler setting learning rate to 0.0003741581.\n",
            "60000/60000 [==============================] - 7s 113us/step - loss: 0.0935 - acc: 0.9577 - val_loss: 0.0199 - val_acc: 0.9946\n",
            "\n",
            "Epoch 00023: val_loss did not improve from 0.01913\n",
            "Epoch 24/40\n",
            "\n",
            "Epoch 00024: LearningRateScheduler setting learning rate to 0.0003598417.\n",
            "60000/60000 [==============================] - 7s 112us/step - loss: 0.0920 - acc: 0.9581 - val_loss: 0.0200 - val_acc: 0.9953\n",
            "\n",
            "Epoch 00024: val_loss did not improve from 0.01913\n",
            "Epoch 25/40\n",
            "\n",
            "Epoch 00025: LearningRateScheduler setting learning rate to 0.0003465804.\n",
            "60000/60000 [==============================] - 7s 115us/step - loss: 0.0917 - acc: 0.9581 - val_loss: 0.0205 - val_acc: 0.9943\n",
            "\n",
            "Epoch 00025: val_loss did not improve from 0.01913\n",
            "Epoch 26/40\n",
            "\n",
            "Epoch 00026: LearningRateScheduler setting learning rate to 0.0003342618.\n",
            "60000/60000 [==============================] - 7s 115us/step - loss: 0.0889 - acc: 0.9609 - val_loss: 0.0181 - val_acc: 0.9954\n",
            "\n",
            "Epoch 00026: val_loss improved from 0.01913 to 0.01813, saving model to model-026-0.960883-0.995400.h5\n",
            "Epoch 27/40\n",
            "\n",
            "Epoch 00027: LearningRateScheduler setting learning rate to 0.0003227889.\n",
            "60000/60000 [==============================] - 7s 113us/step - loss: 0.0907 - acc: 0.9583 - val_loss: 0.0218 - val_acc: 0.9947\n",
            "\n",
            "Epoch 00027: val_loss did not improve from 0.01813\n",
            "Epoch 28/40\n",
            "\n",
            "Epoch 00028: LearningRateScheduler setting learning rate to 0.0003120774.\n",
            "60000/60000 [==============================] - 7s 114us/step - loss: 0.0891 - acc: 0.9580 - val_loss: 0.0198 - val_acc: 0.9947\n",
            "\n",
            "Epoch 00028: val_loss did not improve from 0.01813\n",
            "Epoch 29/40\n",
            "\n",
            "Epoch 00029: LearningRateScheduler setting learning rate to 0.000302054.\n",
            "60000/60000 [==============================] - 7s 113us/step - loss: 0.0892 - acc: 0.9586 - val_loss: 0.0198 - val_acc: 0.9949\n",
            "\n",
            "Epoch 00029: val_loss did not improve from 0.01813\n",
            "Epoch 30/40\n",
            "\n",
            "Epoch 00030: LearningRateScheduler setting learning rate to 0.0002926544.\n",
            "60000/60000 [==============================] - 7s 112us/step - loss: 0.0891 - acc: 0.9573 - val_loss: 0.0221 - val_acc: 0.9940\n",
            "\n",
            "Epoch 00030: val_loss did not improve from 0.01813\n",
            "Epoch 31/40\n",
            "\n",
            "Epoch 00031: LearningRateScheduler setting learning rate to 0.0002838221.\n",
            "60000/60000 [==============================] - 7s 112us/step - loss: 0.0888 - acc: 0.9572 - val_loss: 0.0200 - val_acc: 0.9950\n",
            "\n",
            "Epoch 00031: val_loss did not improve from 0.01813\n",
            "Epoch 32/40\n",
            "\n",
            "Epoch 00032: LearningRateScheduler setting learning rate to 0.0002755074.\n",
            "60000/60000 [==============================] - 7s 112us/step - loss: 0.0873 - acc: 0.9582 - val_loss: 0.0195 - val_acc: 0.9948\n",
            "\n",
            "Epoch 00032: val_loss did not improve from 0.01813\n",
            "Epoch 33/40\n",
            "\n",
            "Epoch 00033: LearningRateScheduler setting learning rate to 0.000267666.\n",
            "60000/60000 [==============================] - 7s 112us/step - loss: 0.0884 - acc: 0.9583 - val_loss: 0.0198 - val_acc: 0.9950\n",
            "\n",
            "Epoch 00033: val_loss did not improve from 0.01813\n",
            "Epoch 34/40\n",
            "\n",
            "Epoch 00034: LearningRateScheduler setting learning rate to 0.0002602585.\n",
            "60000/60000 [==============================] - 7s 112us/step - loss: 0.0863 - acc: 0.9600 - val_loss: 0.0193 - val_acc: 0.9951\n",
            "\n",
            "Epoch 00034: val_loss did not improve from 0.01813\n",
            "Epoch 35/40\n",
            "\n",
            "Epoch 00035: LearningRateScheduler setting learning rate to 0.00025325.\n",
            "60000/60000 [==============================] - 7s 112us/step - loss: 0.0883 - acc: 0.9577 - val_loss: 0.0192 - val_acc: 0.9952\n",
            "\n",
            "Epoch 00035: val_loss did not improve from 0.01813\n",
            "Epoch 36/40\n",
            "\n",
            "Epoch 00036: LearningRateScheduler setting learning rate to 0.0002466091.\n",
            "60000/60000 [==============================] - 7s 113us/step - loss: 0.0863 - acc: 0.9584 - val_loss: 0.0198 - val_acc: 0.9952\n",
            "\n",
            "Epoch 00036: val_loss did not improve from 0.01813\n",
            "Epoch 37/40\n",
            "\n",
            "Epoch 00037: LearningRateScheduler setting learning rate to 0.0002403076.\n",
            "60000/60000 [==============================] - 7s 113us/step - loss: 0.0850 - acc: 0.9592 - val_loss: 0.0202 - val_acc: 0.9949\n",
            "\n",
            "Epoch 00037: val_loss did not improve from 0.01813\n",
            "Epoch 38/40\n",
            "\n",
            "Epoch 00038: LearningRateScheduler setting learning rate to 0.0002343201.\n",
            "60000/60000 [==============================] - 7s 113us/step - loss: 0.0839 - acc: 0.9602 - val_loss: 0.0193 - val_acc: 0.9953\n",
            "\n",
            "Epoch 00038: val_loss did not improve from 0.01813\n",
            "Epoch 39/40\n",
            "\n",
            "Epoch 00039: LearningRateScheduler setting learning rate to 0.0002286237.\n",
            "60000/60000 [==============================] - 7s 113us/step - loss: 0.0860 - acc: 0.9582 - val_loss: 0.0192 - val_acc: 0.9956\n",
            "\n",
            "Epoch 00039: val_loss did not improve from 0.01813\n",
            "Epoch 40/40\n",
            "\n",
            "Epoch 00040: LearningRateScheduler setting learning rate to 0.0002231977.\n",
            "60000/60000 [==============================] - 7s 113us/step - loss: 0.0863 - acc: 0.9579 - val_loss: 0.0191 - val_acc: 0.9959\n",
            "\n",
            "Epoch 00040: val_loss did not improve from 0.01813\n"
          ],
          "name": "stdout"
        },
        {
          "output_type": "execute_result",
          "data": {
            "text/plain": [
              "<keras.callbacks.History at 0x7f16d6d254e0>"
            ]
          },
          "metadata": {
            "tags": []
          },
          "execution_count": 32
        }
      ]
    },
    {
      "cell_type": "code",
      "metadata": {
        "id": "WLxlW9ufyQiO",
        "colab_type": "code",
        "outputId": "cbfde0ff-b0ce-4b54-d045-ca7ab5502ac8",
        "colab": {
          "base_uri": "https://localhost:8080/",
          "height": 34
        }
      },
      "source": [
        "\n",
        "score = model.evaluate(X_test, Y_test, verbose=0)\n",
        "print(score)"
      ],
      "execution_count": 33,
      "outputs": [
        {
          "output_type": "stream",
          "text": [
            "[0.01905706945612328, 0.9959]\n"
          ],
          "name": "stdout"
        }
      ]
    },
    {
      "cell_type": "code",
      "metadata": {
        "id": "IF_g-_beEZFL",
        "colab_type": "code",
        "outputId": "b0256ed6-ecad-4f5a-af63-974113ead020",
        "colab": {
          "base_uri": "https://localhost:8080/",
          "height": 34
        }
      },
      "source": [
        "pred_test = model.predict(X_test).argmax(axis=-1)\n",
        "pred_test"
      ],
      "execution_count": 34,
      "outputs": [
        {
          "output_type": "execute_result",
          "data": {
            "text/plain": [
              "array([7, 2, 1, ..., 4, 5, 6])"
            ]
          },
          "metadata": {
            "tags": []
          },
          "execution_count": 34
        }
      ]
    },
    {
      "cell_type": "code",
      "metadata": {
        "id": "jfMOLfX4EgM3",
        "colab_type": "code",
        "outputId": "378d5bda-6f61-4438-98fa-a38ea4c8e3a0",
        "colab": {
          "base_uri": "https://localhost:8080/",
          "height": 34
        }
      },
      "source": [
        "y_test"
      ],
      "execution_count": 35,
      "outputs": [
        {
          "output_type": "execute_result",
          "data": {
            "text/plain": [
              "array([7, 2, 1, ..., 4, 5, 6], dtype=uint8)"
            ]
          },
          "metadata": {
            "tags": []
          },
          "execution_count": 35
        }
      ]
    },
    {
      "cell_type": "code",
      "metadata": {
        "id": "G4R_PWkuE3yw",
        "colab_type": "code",
        "outputId": "72cb29db-0a8f-4792-d52e-7d276e05f665",
        "colab": {
          "base_uri": "https://localhost:8080/",
          "height": 187
        }
      },
      "source": [
        "from sklearn.metrics import confusion_matrix\n",
        "confusion_matrix(y_test,pred_test)"
      ],
      "execution_count": 36,
      "outputs": [
        {
          "output_type": "execute_result",
          "data": {
            "text/plain": [
              "array([[ 978,    0,    0,    0,    0,    1,    0,    1,    0,    0],\n",
              "       [   0, 1134,    0,    0,    0,    0,    0,    1,    0,    0],\n",
              "       [   1,    1, 1026,    0,    0,    0,    0,    4,    0,    0],\n",
              "       [   0,    0,    1, 1006,    0,    2,    0,    0,    1,    0],\n",
              "       [   0,    0,    0,    0,  981,    0,    0,    0,    0,    1],\n",
              "       [   0,    0,    0,    3,    0,  888,    1,    0,    0,    0],\n",
              "       [   2,    3,    0,    0,    0,    1,  952,    0,    0,    0],\n",
              "       [   0,    2,    0,    0,    0,    0,    0, 1026,    0,    0],\n",
              "       [   0,    0,    1,    1,    0,    1,    0,    1,  969,    1],\n",
              "       [   2,    0,    1,    0,    3,    2,    0,    2,    0,  999]])"
            ]
          },
          "metadata": {
            "tags": []
          },
          "execution_count": 36
        }
      ]
    },
    {
      "cell_type": "code",
      "metadata": {
        "id": "nqoTHvJvFSnA",
        "colab_type": "code",
        "outputId": "3a02a1a3-85bf-42e0-f90b-e9fcc4a3577c",
        "colab": {
          "base_uri": "https://localhost:8080/",
          "height": 68
        }
      },
      "source": [
        "incorrects = np.nonzero(pred_test.reshape((-1,)) != y_test)[0][:25]\n",
        "incorrects"
      ],
      "execution_count": 37,
      "outputs": [
        {
          "output_type": "execute_result",
          "data": {
            "text/plain": [
              "array([ 321,  445,  449,  659,  947, 1014, 1039, 1232, 1530, 1878, 1901,\n",
              "       2035, 2130, 2135, 2293, 2462, 2597, 2648, 2654, 2939, 3422, 3448,\n",
              "       4078, 4176, 4201])"
            ]
          },
          "metadata": {
            "tags": []
          },
          "execution_count": 37
        }
      ]
    },
    {
      "cell_type": "code",
      "metadata": {
        "id": "w459vI4gFj_Q",
        "colab_type": "code",
        "outputId": "de7129c4-8d9a-4b85-93b6-5a6b8ad62c4e",
        "colab": {
          "base_uri": "https://localhost:8080/",
          "height": 34
        }
      },
      "source": [
        "pred_test[321] ,y_test[321]"
      ],
      "execution_count": 39,
      "outputs": [
        {
          "output_type": "execute_result",
          "data": {
            "text/plain": [
              "(7, 2)"
            ]
          },
          "metadata": {
            "tags": []
          },
          "execution_count": 39
        }
      ]
    },
    {
      "cell_type": "code",
      "metadata": {
        "id": "O3VO5Z2JGust",
        "colab_type": "code",
        "colab": {}
      },
      "source": [
        "(X_train1, y_train1), (X_test1, y_test1) = mnist.load_data()"
      ],
      "execution_count": 0,
      "outputs": []
    },
    {
      "cell_type": "code",
      "metadata": {
        "id": "KjebMdrGZygf",
        "colab_type": "code",
        "colab": {}
      },
      "source": [
        "for i in incorrects:\n",
        "  plt.imsave(\"{},Pred- {},actual - {}.png\".format(i,pred_test[i], y_test[i]), X_train1[i])\n",
        "  "
      ],
      "execution_count": 0,
      "outputs": []
    },
    {
      "cell_type": "code",
      "metadata": {
        "id": "371NS14-a8Rh",
        "colab_type": "code",
        "colab": {}
      },
      "source": [
        ""
      ],
      "execution_count": 0,
      "outputs": []
    }
  ]
}